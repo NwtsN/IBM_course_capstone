{
 "cells": [
  {
   "cell_type": "markdown",
   "id": "c785fc6e-cf0e-489e-8cdd-f71cf91061cb",
   "metadata": {},
   "source": [
    "# **SpaceX Falcon 9 first stage Landing Prediction**"
   ]
  },
  {
   "cell_type": "markdown",
   "id": "17bcaac0-d5c2-4310-8bc9-e21fe29152a5",
   "metadata": {},
   "source": [
    "We will predict if the Falcon 9 first stage will land successfully. SpaceX advertises Falcon 9 rocket launches on its website with a cost of 62 million dollars; other providers cost upward of 165 million dollars each, much of the savings is because SpaceX can reuse the first stage. Therefore if we can determine if the first stage will land, we can determine the cost of a launch. This information can be used if an alternate company wants to bid against SpaceX for a rocket launch. We will collect and make sure the data is in the correct format from an API. The following is an example of a successful and launch."
   ]
  },
  {
   "cell_type": "markdown",
   "id": "705bddf3-38fa-4294-bf38-b065c52fac20",
   "metadata": {},
   "source": [
    "## Objectives"
   ]
  },
  {
   "cell_type": "markdown",
   "id": "e8aaedb2-cf5d-4354-8597-b91f43ae3be7",
   "metadata": {},
   "source": [
    "In this notebook we will make a get request to the SpaceX API. Also we will do some basic data wrangling and formatting.\n",
    "\n",
    "- Request to the SpaceX API\n",
    "- Clean the requested data"
   ]
  },
  {
   "cell_type": "markdown",
   "id": "9f0121f6-eac4-4489-a09a-f9c0de876e10",
   "metadata": {},
   "source": [
    "----"
   ]
  },
  {
   "cell_type": "markdown",
   "id": "843eff51-e7a2-4dea-9819-8b3b30137c7e",
   "metadata": {},
   "source": [
    "## Import libraries and define auxilliary functions"
   ]
  },
  {
   "cell_type": "code",
   "execution_count": 1,
   "id": "55cb80b9-bd72-42bf-875b-48e27323c963",
   "metadata": {},
   "outputs": [],
   "source": [
    "# need requests to make http requests which we will use to get the data from the API\n",
    "import requests\n",
    "# neeed pandas for data manipulation and analysis\n",
    "import pandas as pd\n",
    "# need numpy for matrix multiplicaton\n",
    "import numpy as np\n",
    "# need datetime library to represent dates\n",
    "import datetime\n",
    "\n",
    "# can uncomment the below line of code to view all columns without truncation\n",
    "#pd.set_option('display.max_columns', None)\n",
    "# can uncomment the below line of code to view content of all columns without truncation\n",
    "#pd.set_option('display.max_colwidth', None)"
   ]
  },
  {
   "cell_type": "markdown",
   "id": "0f30a30f-d465-4342-aa2d-7a46fc6bcb37",
   "metadata": {},
   "source": [
    "Below we will define a series of helper functions that will help us use the API to extract information using identification numbers in the launch data."
   ]
  },
  {
   "cell_type": "markdown",
   "id": "552fa29f-f918-4551-b088-fcfad0a51922",
   "metadata": {},
   "source": [
    "We need the booster name, launch site used (its latitude and longitude as well) and the payload (mass and orbit). We need information about the outcome of the landing, the type of the landing, number of flights with that core, whether gridfins were used, wheter the core is reused, wheter legs were used, the landing pad used, the block of the core which is a number used to seperate version of cores, the number of times this specific core has been reused, and the serial of the core."
   ]
  },
  {
   "cell_type": "code",
   "execution_count": 2,
   "id": "526e9b2c-9bd5-459c-9e86-2cb023bb8407",
   "metadata": {},
   "outputs": [],
   "source": [
    "# Takes the dataset and uses the rocket column to call the API and append the data to the list\n",
    "def getBoosterVersion(data):\n",
    "    for x in data['rocket']:\n",
    "       if x:\n",
    "        response = requests.get(\"https://api.spacexdata.com/v4/rockets/\"+str(x)).json()\n",
    "        BoosterVersion.append(response['name'])"
   ]
  },
  {
   "cell_type": "code",
   "execution_count": 3,
   "id": "27fb0950-bef2-4409-a9be-cd6cc26772f3",
   "metadata": {},
   "outputs": [],
   "source": [
    "# Takes the dataset and uses the launchpad column to call the API and append the data to the list\n",
    "def getLaunchSite(data):\n",
    "    for x in data['launchpad']:\n",
    "       if x:\n",
    "         response = requests.get(\"https://api.spacexdata.com/v4/launchpads/\"+str(x)).json()\n",
    "         Longitude.append(response['longitude'])\n",
    "         Latitude.append(response['latitude'])\n",
    "         LaunchSite.append(response['name'])"
   ]
  },
  {
   "cell_type": "code",
   "execution_count": 4,
   "id": "ea4171d8-4637-4ddd-8eb7-e0d8407231c0",
   "metadata": {},
   "outputs": [],
   "source": [
    "# Takes the dataset and uses the payloads column to call the API and append the data to the lists\n",
    "def getPayloadData(data):\n",
    "    for load in data['payloads']:\n",
    "       if load:\n",
    "        response = requests.get(\"https://api.spacexdata.com/v4/payloads/\"+load).json()\n",
    "        PayloadMass.append(response['mass_kg'])\n",
    "        Orbit.append(response['orbit'])"
   ]
  },
  {
   "cell_type": "code",
   "execution_count": 5,
   "id": "3581ea15-8c19-45ab-b185-ead837524699",
   "metadata": {},
   "outputs": [],
   "source": [
    "# Takes the dataset and uses the cores column to call the API and append the data to the lists\n",
    "def getCoreData(data):\n",
    "    for core in data['cores']:\n",
    "            if core['core'] != None:\n",
    "                response = requests.get(\"https://api.spacexdata.com/v4/cores/\"+core['core']).json()\n",
    "                Block.append(response['block'])\n",
    "                ReusedCount.append(response['reuse_count'])\n",
    "                Serial.append(response['serial'])\n",
    "            else:\n",
    "                Block.append(None)\n",
    "                ReusedCount.append(None)\n",
    "                Serial.append(None)\n",
    "            Outcome.append(str(core['landing_success'])+' '+str(core['landing_type']))\n",
    "            Flights.append(core['flight'])\n",
    "            GridFins.append(core['gridfins'])\n",
    "            Reused.append(core['reused'])\n",
    "            Legs.append(core['legs'])\n",
    "            LandingPad.append(core['landpad'])"
   ]
  },
  {
   "cell_type": "markdown",
   "id": "d6d3655b-f6b4-4e0b-9b58-af216a4826f1",
   "metadata": {},
   "source": [
    "---"
   ]
  },
  {
   "cell_type": "markdown",
   "id": "8ed7e568-3f0c-4bba-ac1c-b8f3d228f044",
   "metadata": {},
   "source": [
    "Now we can start requesting data from the SpaceX API with the following url:"
   ]
  },
  {
   "cell_type": "code",
   "execution_count": 6,
   "id": "22ec9401-3aa1-4360-b6d1-40d6aab4f488",
   "metadata": {},
   "outputs": [],
   "source": [
    "url=\"https://api.spacexdata.com/v4/launches/past\""
   ]
  },
  {
   "cell_type": "code",
   "execution_count": 7,
   "id": "756f9917-3d96-4487-91d1-fb67cc52a566",
   "metadata": {},
   "outputs": [
    {
     "name": "stdout",
     "output_type": "stream",
     "text": [
      "[{\"fairings\":{\"reused\":false,\"recovery_attempt\":false,\"recovered\":false,\"ships\":[]},\"links\":{\"patch\n"
     ]
    }
   ],
   "source": [
    "response = requests.get(url)\n",
    "print(response.text[:99])"
   ]
  },
  {
   "cell_type": "markdown",
   "id": "5c3aeb2e-bc81-4497-844a-0df3a88df6ea",
   "metadata": {},
   "source": [
    "----"
   ]
  },
  {
   "cell_type": "markdown",
   "id": "f4d65bf5-f5cb-4f1d-94b2-f826bfcd8718",
   "metadata": {},
   "source": [
    "### Task 1: Request and parse the SpaceX launch data using the GET request"
   ]
  },
  {
   "cell_type": "markdown",
   "id": "acc68d5f-f265-4c8e-a22e-f1479ce8626a",
   "metadata": {},
   "source": [
    "For consistencys sake we will use this static response object for this project:"
   ]
  },
  {
   "cell_type": "code",
   "execution_count": 8,
   "id": "d0b51370-d67b-4a5b-95fa-f4b117f308b8",
   "metadata": {},
   "outputs": [],
   "source": [
    "static_url=\"https://cf-courses-data.s3.us.cloud-object-storage.appdomain.cloud/IBM-DS0321EN-SkillsNetwork/datasets/API_call_spacex_api.json\""
   ]
  },
  {
   "cell_type": "code",
   "execution_count": 9,
   "id": "a15dec3b-fb9f-4688-b6bb-eb5330d35544",
   "metadata": {},
   "outputs": [
    {
     "name": "stdout",
     "output_type": "stream",
     "text": [
      "200\n",
      "[{\"fairings\": {\"reused\": false, \"recovery_attempt\": false, \"recovered\": false, \"ships\": []}, \"links\n"
     ]
    }
   ],
   "source": [
    "response = requests.get(static_url)\n",
    "print(response.status_code)\n",
    "print(response.text[:99])"
   ]
  },
  {
   "cell_type": "code",
   "execution_count": 10,
   "id": "852ae95c-a916-46c3-a223-f6d29de8b6cf",
   "metadata": {},
   "outputs": [
    {
     "name": "stdout",
     "output_type": "stream",
     "text": [
      "       static_fire_date_utc  static_fire_date_unix    tbd    net  window  \\\n",
      "0  2006-03-17T00:00:00.000Z           1.142554e+09  False  False     0.0   \n",
      "1                      None                    NaN  False  False     0.0   \n",
      "2                      None                    NaN  False  False     0.0   \n",
      "3  2008-09-20T00:00:00.000Z           1.221869e+09  False  False     0.0   \n",
      "4                      None                    NaN  False  False     0.0   \n",
      "\n",
      "                     rocket  success  \\\n",
      "0  5e9d0d95eda69955f709d1eb    False   \n",
      "1  5e9d0d95eda69955f709d1eb    False   \n",
      "2  5e9d0d95eda69955f709d1eb    False   \n",
      "3  5e9d0d95eda69955f709d1eb     True   \n",
      "4  5e9d0d95eda69955f709d1eb     True   \n",
      "\n",
      "                                             details crew ships  ...  \\\n",
      "0   Engine failure at 33 seconds and loss of vehicle   []    []  ...   \n",
      "1  Successful first stage burn and transition to ...   []    []  ...   \n",
      "2  Residual stage 1 thrust led to collision betwe...   []    []  ...   \n",
      "3  Ratsat was carried to orbit on the first succe...   []    []  ...   \n",
      "4                                               None   []    []  ...   \n",
      "\n",
      "  links.reddit.media links.reddit.recovery links.flickr.small  \\\n",
      "0               None                  None                 []   \n",
      "1               None                  None                 []   \n",
      "2               None                  None                 []   \n",
      "3               None                  None                 []   \n",
      "4               None                  None                 []   \n",
      "\n",
      "   links.flickr.original                                     links.presskit  \\\n",
      "0                     []                                               None   \n",
      "1                     []                                               None   \n",
      "2                     []                                               None   \n",
      "3                     []                                               None   \n",
      "4                     []  http://www.spacex.com/press/2012/12/19/spacexs...   \n",
      "\n",
      "                                 links.webcast links.youtube_id  \\\n",
      "0  https://www.youtube.com/watch?v=0a_00nJ_Y88      0a_00nJ_Y88   \n",
      "1  https://www.youtube.com/watch?v=Lk4zQ2wP-Nc      Lk4zQ2wP-Nc   \n",
      "2  https://www.youtube.com/watch?v=v0w9p3U8860      v0w9p3U8860   \n",
      "3  https://www.youtube.com/watch?v=dLQ2tZEH6G0      dLQ2tZEH6G0   \n",
      "4  https://www.youtube.com/watch?v=yTaIDooc8Og      yTaIDooc8Og   \n",
      "\n",
      "                                       links.article  \\\n",
      "0  https://www.space.com/2196-spacex-inaugural-fa...   \n",
      "1  https://www.space.com/3590-spacex-falcon-1-roc...   \n",
      "2  http://www.spacex.com/news/2013/02/11/falcon-1...   \n",
      "3               https://en.wikipedia.org/wiki/Ratsat   \n",
      "4  http://www.spacex.com/news/2013/02/12/falcon-1...   \n",
      "\n",
      "                                     links.wikipedia fairings  \n",
      "0              https://en.wikipedia.org/wiki/DemoSat      NaN  \n",
      "1              https://en.wikipedia.org/wiki/DemoSat      NaN  \n",
      "2  https://en.wikipedia.org/wiki/Trailblazer_(sat...      NaN  \n",
      "3               https://en.wikipedia.org/wiki/Ratsat      NaN  \n",
      "4             https://en.wikipedia.org/wiki/RazakSAT      NaN  \n",
      "\n",
      "[5 rows x 42 columns]\n"
     ]
    }
   ],
   "source": [
    "# turning the response into a dataframe\n",
    "response_as_json = response.json()\n",
    "# Use pandas' json_normalize to flatten nested json\n",
    "from pandas import json_normalize\n",
    "df = json_normalize(response_as_json)\n",
    "print(df.head(5))"
   ]
  },
  {
   "cell_type": "markdown",
   "id": "3386876d-51b9-48a3-9aec-0cdb1812af1d",
   "metadata": {},
   "source": [
    "Lots of the data are just IDs e.g. rocket column has no rocket info just a ID no. this means we will have to use the API again to get information about the launches using the IDs given for each launch. Specifically we will be using columns rocket, payloads, launchpad, and cores."
   ]
  },
  {
   "cell_type": "code",
   "execution_count": 11,
   "id": "0c01df6b-437a-4b8b-bc68-5e008f179b98",
   "metadata": {},
   "outputs": [],
   "source": [
    "# Lets take a subset of our dataframe keeping only the features we want and the flight number, and date_utc.\n",
    "df = df[['rocket', 'payloads', 'launchpad', 'cores', 'flight_number', 'date_utc']]\n",
    "\n",
    "# We will remove rows with multiple cores because those are falcon rockets with 2 extra \n",
    "# rocket boosters and rows that have multiple payloads in a single rocket.\n",
    "df = df[df['cores'].map(len)==1]\n",
    "df = df[df['payloads'].map(len)==1]\n",
    "\n",
    "# Since payloads and cores are lists of size 1 we will also extract the single value in the list and replace the feature.\n",
    "df['cores'] = df['cores'].map(lambda x : x[0])\n",
    "df['payloads'] = df['payloads'].map(lambda x : x[0])\n",
    "\n",
    "# We also want to convert the date_utc to a datetime datatype and then extracting the date leaving the time\n",
    "df['date'] = pd.to_datetime(df['date_utc']).dt.date\n",
    "\n",
    "# Using the date we will restrict the dates of the launches\n",
    "df = df[df['date'] <= datetime.date(2020, 11, 13)]"
   ]
  },
  {
   "cell_type": "markdown",
   "id": "a46088d9-2b13-4de9-bdb2-b97b2e4310be",
   "metadata": {},
   "source": [
    "From the rocket we need the booster name, from the payload we need its mass and orbit, from the laumchpad we need the name of the site, latitude and longitude. We need a lot of info about the cores namely, the outcome of the landing, the type of the landing, number of flights with that core, whether gridfins were used, whether the core is reused, whether legs were used, the landing pad used, the block of the core which is a number used to seperate version of cores, the number of times this specific core has been reused, and the serial of the core."
   ]
  },
  {
   "cell_type": "code",
   "execution_count": 12,
   "id": "c07f7892-e4c7-475b-9f85-f228e19d408a",
   "metadata": {},
   "outputs": [],
   "source": [
    "# setting up empty lists to store the data from these requests\n",
    "\n",
    "BoosterVersion = []\n",
    "PayloadMass = []\n",
    "Orbit = []\n",
    "LaunchSite = []\n",
    "Outcome = []\n",
    "Flights = []\n",
    "GridFins = []\n",
    "Reused = []\n",
    "Legs = []\n",
    "LandingPad = []\n",
    "Block = []\n",
    "ReusedCount = []\n",
    "Serial = []\n",
    "Longitude = []\n",
    "Latitude = []"
   ]
  },
  {
   "cell_type": "code",
   "execution_count": 13,
   "id": "eb0f1c76-8519-4a4c-bb3d-adab3bd7eb29",
   "metadata": {},
   "outputs": [
    {
     "name": "stdout",
     "output_type": "stream",
     "text": [
      "['Falcon 1', 'Falcon 1', 'Falcon 1', 'Falcon 1', 'Falcon 9']\n"
     ]
    }
   ],
   "source": [
    "# see if the function worked\n",
    "\n",
    "getBoosterVersion(df)\n",
    "print(BoosterVersion[0:5])"
   ]
  },
  {
   "cell_type": "code",
   "execution_count": 14,
   "id": "581b7bad-ce6e-4b86-9a4e-72c72895e417",
   "metadata": {},
   "outputs": [],
   "source": [
    "# apply the other functions to the data and construct dataset\n",
    "\n",
    "getLaunchSite(df)\n",
    "getPayloadData(df)\n",
    "getCoreData(df)\n",
    "\n",
    "launch_dict = {'FlightNumber': list(df['flight_number']),\n",
    "'Date': list(df['date']),\n",
    "'BoosterVersion':BoosterVersion,\n",
    "'PayloadMass':PayloadMass,\n",
    "'Orbit':Orbit,\n",
    "'LaunchSite':LaunchSite,\n",
    "'Outcome':Outcome,\n",
    "'Flights':Flights,\n",
    "'GridFins':GridFins,\n",
    "'Reused':Reused,\n",
    "'Legs':Legs,\n",
    "'LandingPad':LandingPad,\n",
    "'Block':Block,\n",
    "'ReusedCount':ReusedCount,\n",
    "'Serial':Serial,\n",
    "'Longitude': Longitude,\n",
    "'Latitude': Latitude}"
   ]
  },
  {
   "cell_type": "code",
   "execution_count": 15,
   "id": "3b57e927-6ed9-4359-bcd9-11d3fd6f8a04",
   "metadata": {},
   "outputs": [
    {
     "name": "stdout",
     "output_type": "stream",
     "text": [
      "   FlightNumber        Date BoosterVersion  PayloadMass Orbit  \\\n",
      "0             1  2006-03-24       Falcon 1         20.0   LEO   \n",
      "1             2  2007-03-21       Falcon 1          NaN   LEO   \n",
      "2             4  2008-09-28       Falcon 1        165.0   LEO   \n",
      "3             5  2009-07-13       Falcon 1        200.0   LEO   \n",
      "4             6  2010-06-04       Falcon 9          NaN   LEO   \n",
      "\n",
      "        LaunchSite    Outcome  Flights  GridFins  Reused   Legs LandingPad  \\\n",
      "0  Kwajalein Atoll  None None        1     False   False  False       None   \n",
      "1  Kwajalein Atoll  None None        1     False   False  False       None   \n",
      "2  Kwajalein Atoll  None None        1     False   False  False       None   \n",
      "3  Kwajalein Atoll  None None        1     False   False  False       None   \n",
      "4     CCSFS SLC 40  None None        1     False   False  False       None   \n",
      "\n",
      "   Block  ReusedCount    Serial   Longitude   Latitude  \n",
      "0    NaN            0  Merlin1A  167.743129   9.047721  \n",
      "1    NaN            0  Merlin2A  167.743129   9.047721  \n",
      "2    NaN            0  Merlin2C  167.743129   9.047721  \n",
      "3    NaN            0  Merlin3C  167.743129   9.047721  \n",
      "4    1.0            0     B0003  -80.577366  28.561857  \n"
     ]
    }
   ],
   "source": [
    "launch = pd.DataFrame(launch_dict)\n",
    "print(launch.head(5))"
   ]
  },
  {
   "cell_type": "markdown",
   "id": "a9d04ac9-b9d5-4c6b-a478-20e4dbe16dc2",
   "metadata": {},
   "source": [
    "----"
   ]
  },
  {
   "cell_type": "markdown",
   "id": "ee3bee9a-7bca-4ea3-a001-7470dd5673f3",
   "metadata": {},
   "source": [
    "### Task 2: Filter the dataframe to only have 'Falcon9' launches "
   ]
  },
  {
   "cell_type": "code",
   "execution_count": 17,
   "id": "e30a5741-86ef-4b70-a168-442a7efc06e4",
   "metadata": {},
   "outputs": [
    {
     "name": "stdout",
     "output_type": "stream",
     "text": [
      "   FlightNumber        Date BoosterVersion  PayloadMass Orbit    LaunchSite  \\\n",
      "4             6  2010-06-04       Falcon 9          NaN   LEO  CCSFS SLC 40   \n",
      "5             8  2012-05-22       Falcon 9        525.0   LEO  CCSFS SLC 40   \n",
      "6            10  2013-03-01       Falcon 9        677.0   ISS  CCSFS SLC 40   \n",
      "7            11  2013-09-29       Falcon 9        500.0    PO   VAFB SLC 4E   \n",
      "8            12  2013-12-03       Falcon 9       3170.0   GTO  CCSFS SLC 40   \n",
      "\n",
      "       Outcome  Flights  GridFins  Reused   Legs LandingPad  Block  \\\n",
      "4    None None        1     False   False  False       None    1.0   \n",
      "5    None None        1     False   False  False       None    1.0   \n",
      "6    None None        1     False   False  False       None    1.0   \n",
      "7  False Ocean        1     False   False  False       None    1.0   \n",
      "8    None None        1     False   False  False       None    1.0   \n",
      "\n",
      "   ReusedCount Serial   Longitude   Latitude  \n",
      "4            0  B0003  -80.577366  28.561857  \n",
      "5            0  B0005  -80.577366  28.561857  \n",
      "6            0  B0007  -80.577366  28.561857  \n",
      "7            0  B1003 -120.610829  34.632093  \n",
      "8            0  B1004  -80.577366  28.561857  \n",
      "90\n"
     ]
    }
   ],
   "source": [
    "data_falcon9 = launch[launch['BoosterVersion']=='Falcon 9']\n",
    "print(data_falcon9.head(5))\n",
    "print(len(data_falcon9['BoosterVersion']))"
   ]
  },
  {
   "cell_type": "code",
   "execution_count": 18,
   "id": "720b27ad-b9b9-4851-afa7-11691fcd5430",
   "metadata": {},
   "outputs": [
    {
     "name": "stdout",
     "output_type": "stream",
     "text": [
      "   FlightNumber        Date BoosterVersion  PayloadMass Orbit    LaunchSite  \\\n",
      "4             1  2010-06-04       Falcon 9          NaN   LEO  CCSFS SLC 40   \n",
      "5             2  2012-05-22       Falcon 9        525.0   LEO  CCSFS SLC 40   \n",
      "6             3  2013-03-01       Falcon 9        677.0   ISS  CCSFS SLC 40   \n",
      "7             4  2013-09-29       Falcon 9        500.0    PO   VAFB SLC 4E   \n",
      "8             5  2013-12-03       Falcon 9       3170.0   GTO  CCSFS SLC 40   \n",
      "\n",
      "       Outcome  Flights  GridFins  Reused   Legs LandingPad  Block  \\\n",
      "4    None None        1     False   False  False       None    1.0   \n",
      "5    None None        1     False   False  False       None    1.0   \n",
      "6    None None        1     False   False  False       None    1.0   \n",
      "7  False Ocean        1     False   False  False       None    1.0   \n",
      "8    None None        1     False   False  False       None    1.0   \n",
      "\n",
      "   ReusedCount Serial   Longitude   Latitude  \n",
      "4            0  B0003  -80.577366  28.561857  \n",
      "5            0  B0005  -80.577366  28.561857  \n",
      "6            0  B0007  -80.577366  28.561857  \n",
      "7            0  B1003 -120.610829  34.632093  \n",
      "8            0  B1004  -80.577366  28.561857  \n"
     ]
    }
   ],
   "source": [
    "# removed some rows so reset flight number column\n",
    "data_falcon9.loc[:,'FlightNumber'] = list(range(1, data_falcon9.shape[0]+1))\n",
    "print(data_falcon9.head(5))"
   ]
  },
  {
   "cell_type": "markdown",
   "id": "d59f0c1d-1e1e-42ff-bb9f-6d6ea28e68c7",
   "metadata": {},
   "source": [
    "----"
   ]
  },
  {
   "cell_type": "markdown",
   "id": "59ad3ae6-1c72-4019-826f-546b7b775619",
   "metadata": {},
   "source": [
    "## Data Wrangling"
   ]
  },
  {
   "cell_type": "code",
   "execution_count": null,
   "id": "41c9510d-ba10-4229-8c80-305546d3f3c3",
   "metadata": {},
   "outputs": [],
   "source": [
    "# check for missing values\n",
    "\n",
    "print(data_falcon9.isnull().sum())"
   ]
  },
  {
   "cell_type": "markdown",
   "id": "687074b8-ae36-48c5-8e7c-6cb48890a16b",
   "metadata": {},
   "source": [
    "Can see that there are missing values in the payload mass, Landing Pad and Block columns. The Landing pad column will have NaN values for where a landing pad wasnt used. "
   ]
  },
  {
   "cell_type": "markdown",
   "id": "f7d70c5c-0764-4a35-818a-bc1c35c984a9",
   "metadata": {},
   "source": [
    "### Task 3: Dealing with missing values"
   ]
  },
  {
   "cell_type": "code",
   "execution_count": null,
   "id": "a0be6c75-121f-485e-b257-6d1830f03a14",
   "metadata": {},
   "outputs": [],
   "source": [
    "# calculate the mean for the payload mass column and replace the missing values with the mean\n",
    "data_falcon9.loc[:, 'PayloadMass'] = data_falcon9['PayloadMass'].fillna(data_falcon9['PayloadMass'].mean())\n",
    "print(data_falcon9['PayloadMass'].head(5))\n",
    "print(data_falcon9.isnull().sum())"
   ]
  },
  {
   "cell_type": "code",
   "execution_count": null,
   "id": "d9a5bd4c-d604-4f81-81e2-8e3a100740e0",
   "metadata": {},
   "outputs": [],
   "source": [
    "data_falcon9.to_csv(\"data_falcon9.csv\", index=False)"
   ]
  }
 ],
 "metadata": {
  "kernelspec": {
   "display_name": "Python 3 (ipykernel)",
   "language": "python",
   "name": "python3"
  },
  "language_info": {
   "codemirror_mode": {
    "name": "ipython",
    "version": 3
   },
   "file_extension": ".py",
   "mimetype": "text/x-python",
   "name": "python",
   "nbconvert_exporter": "python",
   "pygments_lexer": "ipython3",
   "version": "3.12.8"
  }
 },
 "nbformat": 4,
 "nbformat_minor": 5
}
